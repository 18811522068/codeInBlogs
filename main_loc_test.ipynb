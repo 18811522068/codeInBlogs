{
 "cells": [
  {
   "cell_type": "code",
   "execution_count": 121,
   "metadata": {
    "collapsed": false
   },
   "outputs": [],
   "source": [
    "# 导入数据\n",
    "import numpy as np\n",
    "import scipy.io as scio\n",
    "offline_data = scio.loadmat('offline_data_random.mat')\n",
    "online_data = scio.loadmat('online_data.mat')\n",
    "offline_location, offline_rss = offline_data['offline_location'], offline_data['offline_rss']\n",
    "trace, rss = online_data['trace'][0:1000, :], online_data['rss'][0:1000, :]\n",
    "del offline_data\n",
    "del online_data"
   ]
  },
  {
   "cell_type": "code",
   "execution_count": 122,
   "metadata": {
    "collapsed": true
   },
   "outputs": [],
   "source": [
    "# 定位准确度\n",
    "def accuracy(predictions, labels):\n",
    "    return np.mean(np.sqrt(np.sum((predictions - labels)**2, 1)))"
   ]
  },
  {
   "cell_type": "markdown",
   "metadata": {},
   "source": [
    "### knn回归"
   ]
  },
  {
   "cell_type": "code",
   "execution_count": 139,
   "metadata": {
    "collapsed": false
   },
   "outputs": [
    {
     "name": "stdout",
     "output_type": "stream",
     "text": [
      "accuracy:  2.30190298062 m\n"
     ]
    }
   ],
   "source": [
    "# knn回归\n",
    "from sklearn import neighbors\n",
    "knn_reg = neighbors.KNeighborsRegressor(40, weights='uniform', metric='euclidean')\n",
    "predictions = knn_reg.fit(offline_rss, offline_location).predict(rss)\n",
    "acc = accuracy(predictions, trace)\n",
    "print \"accuracy: \", acc/100, \"m\""
   ]
  },
  {
   "cell_type": "markdown",
   "metadata": {},
   "source": [
    "### knn分类"
   ]
  },
  {
   "cell_type": "code",
   "execution_count": 138,
   "metadata": {
    "collapsed": false
   },
   "outputs": [
    {
     "name": "stdout",
     "output_type": "stream",
     "text": [
      "accuracy:  2.68173403459 m\n"
     ]
    }
   ],
   "source": [
    "# knn分类，需要把坐标转换成网格标号，预测后将网格标号转换为坐标\n",
    "labels = np.round(offline_location[:, 0]/100.0) * 100 + np.round(offline_location[:, 1]/100.0)\n",
    "from sklearn import neighbors\n",
    "knn_cls = neighbors.KNeighborsClassifier(n_neighbors=40, weights='uniform', metric='euclidean')\n",
    "predict_labels = knn_cls.fit(offline_rss, labels).predict(rss)\n",
    "x = np.floor(predict_labels/100.0)\n",
    "y = predict_labels - x * 100\n",
    "predictions = np.column_stack((x, y)) * 100\n",
    "acc = accuracy(predictions, trace)\n",
    "print \"accuracy: \", acc/100, 'm'"
   ]
  }
 ],
 "metadata": {
  "kernelspec": {
   "display_name": "Python 2",
   "language": "python",
   "name": "python2"
  },
  "language_info": {
   "codemirror_mode": {
    "name": "ipython",
    "version": 2
   },
   "file_extension": ".py",
   "mimetype": "text/x-python",
   "name": "python",
   "nbconvert_exporter": "python",
   "pygments_lexer": "ipython2",
   "version": "2.7.9"
  }
 },
 "nbformat": 4,
 "nbformat_minor": 0
}
