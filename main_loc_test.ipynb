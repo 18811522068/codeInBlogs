{
 "cells": [
  {
   "cell_type": "markdown",
   "metadata": {},
   "source": [
    "#### 导入数据"
   ]
  },
  {
   "cell_type": "code",
   "execution_count": 1,
   "metadata": {
    "collapsed": false
   },
   "outputs": [],
   "source": [
    "# 导入数据\n",
    "import numpy as np\n",
    "import scipy.io as scio\n",
    "offline_data = scio.loadmat('offline_data_random.mat')\n",
    "online_data = scio.loadmat('online_data.mat')\n",
    "offline_location, offline_rss = offline_data['offline_location'], offline_data['offline_rss']\n",
    "trace, rss = online_data['trace'][0:1000, :], online_data['rss'][0:1000, :]\n",
    "del offline_data\n",
    "del online_data"
   ]
  },
  {
   "cell_type": "code",
   "execution_count": 2,
   "metadata": {
    "collapsed": true
   },
   "outputs": [],
   "source": [
    "# 定位精度\n",
    "def accuracy(predictions, labels):\n",
    "    return np.mean(np.sqrt(np.sum((predictions - labels)**2, 1)))"
   ]
  },
  {
   "cell_type": "markdown",
   "metadata": {},
   "source": [
    "#### knn回归"
   ]
  },
  {
   "cell_type": "code",
   "execution_count": 11,
   "metadata": {
    "collapsed": false
   },
   "outputs": [
    {
     "name": "stdout",
     "output_type": "stream",
     "text": [
      "Wall time: 92 ms\n",
      "Wall time: 182 ms\n",
      "accuracy:  2.24421479398 m\n"
     ]
    }
   ],
   "source": [
    "# knn回归\n",
    "from sklearn import neighbors\n",
    "knn_reg = neighbors.KNeighborsRegressor(40, weights='uniform', metric='euclidean')\n",
    "%time knn_reg.fit(offline_rss, offline_location)\n",
    "%time predictions = knn_reg.predict(rss)\n",
    "acc = accuracy(predictions, trace)\n",
    "print \"accuracy: \", acc/100, \"m\""
   ]
  },
  {
   "cell_type": "markdown",
   "metadata": {},
   "source": [
    "#### knn分类"
   ]
  },
  {
   "cell_type": "code",
   "execution_count": 12,
   "metadata": {
    "collapsed": false
   },
   "outputs": [
    {
     "name": "stdout",
     "output_type": "stream",
     "text": [
      "Wall time: 80 ms\n",
      "Wall time: 251 ms\n",
      "accuracy:  2.73213398632 m\n"
     ]
    }
   ],
   "source": [
    "# knn分类，需要把坐标转换成网格标号，预测后将网格标号转换为坐标\n",
    "labels = np.round(offline_location[:, 0]/100.0) * 100 + np.round(offline_location[:, 1]/100.0)\n",
    "from sklearn import neighbors\n",
    "knn_cls = neighbors.KNeighborsClassifier(n_neighbors=40, weights='uniform', metric='euclidean')\n",
    "%time knn_cls.fit(offline_rss, labels)\n",
    "%time predict_labels = knn_cls.predict(rss)\n",
    "x = np.floor(predict_labels/100.0)\n",
    "y = predict_labels - x * 100\n",
    "predictions = np.column_stack((x, y)) * 100\n",
    "acc = accuracy(predictions, trace)\n",
    "print \"accuracy: \", acc/100, 'm'"
   ]
  },
  {
   "cell_type": "markdown",
   "metadata": {
    "collapsed": true
   },
   "source": [
    "#### 定位算法分析\n",
    "\n",
    "加入数据预处理和交叉验证"
   ]
  },
  {
   "cell_type": "code",
   "execution_count": 5,
   "metadata": {
    "collapsed": false
   },
   "outputs": [],
   "source": [
    "# 预处理，标准化数据(其实RSS数据还算正常，不预处理应该也无所谓，特征选择什么的也都不需要)\n",
    "from sklearn.preprocessing import StandardScaler\n",
    "standard_scaler = StandardScaler().fit(offline_rss)\n",
    "X_train = standard_scaler.transform(offline_rss)\n",
    "Y_train = offline_location\n",
    "X_test = standard_scaler.transform(rss)\n",
    "Y_test = trace"
   ]
  },
  {
   "cell_type": "code",
   "execution_count": 44,
   "metadata": {
    "collapsed": false
   },
   "outputs": [],
   "source": [
    "# 交叉验证，在knn里用来选择最优的超参数k\n",
    "from sklearn.model_selection import GridSearchCV\n",
    "from sklearn import neighbors\n",
    "parameters = {'n_neighbors':range(1, 50)}\n",
    "knn_reg = neighbors.KNeighborsRegressor(weights='uniform', metric='euclidean')\n",
    "clf = GridSearchCV(knn_reg, parameters)\n",
    "clf.fit(offline_rss, offline_location)\n",
    "scores = clf.cv_results_['mean_test_score']\n",
    "k = np.argmax(scores) #选择score最大的k"
   ]
  },
  {
   "cell_type": "code",
   "execution_count": 49,
   "metadata": {
    "collapsed": false
   },
   "outputs": [
    {
     "data": {
      "image/png": "[encoded data removed]",
      "text/plain": [
       "<matplotlib.figure.Figure at 0x580bf90>"
      ]
     },
     "metadata": {},
     "output_type": "display_data"
    }
   ],
   "source": [
    "# 绘制超参数k与score的关系曲线\n",
    "import matplotlib.pyplot as plt\n",
    "%matplotlib inline\n",
    "plt.plot(range(1, scores.shape[0] + 1), scores, '-o', linewidth=2.0)\n",
    "plt.xlabel(\"k\")\n",
    "plt.ylabel(\"score\")\n",
    "plt.grid(True)\n",
    "plt.show()"
   ]
  },
  {
   "cell_type": "code",
   "execution_count": 47,
   "metadata": {
    "collapsed": false
   },
   "outputs": [
    {
     "name": "stdout",
     "output_type": "stream",
     "text": [
      "accuracy:  2.22455511073 m\n"
     ]
    }
   ],
   "source": [
    "# 使用最优的k做knn回归\n",
    "knn_reg = neighbors.KNeighborsRegressor(n_neighbors=k, weights='uniform', metric='euclidean')\n",
    "predictions = knn_reg.fit(offline_rss, offline_location).predict(rss)\n",
    "acc = accuracy(predictions, trace)\n",
    "print \"accuracy: \", acc/100, \"m\""
   ]
  },
  {
   "cell_type": "code",
   "execution_count": 66,
   "metadata": {
    "collapsed": false
   },
   "outputs": [],
   "source": [
    "# 训练数据量与accuracy\n",
    "k = 29\n",
    "data_num = range(100, 30000, 300)\n",
    "acc = []\n",
    "for i in data_num:\n",
    "    knn_reg = neighbors.KNeighborsRegressor(n_neighbors=k, weights='uniform', metric='euclidean')\n",
    "    predictions = knn_reg.fit(offline_rss[:i, :], offline_location[:i, :]).predict(rss)\n",
    "    acc.append(accuracy(predictions, trace) / 100)"
   ]
  },
  {
   "cell_type": "code",
   "execution_count": 65,
   "metadata": {
    "collapsed": false
   },
   "outputs": [
    {
     "data": {
      "image/png": "[encoded data removed]",
      "text/plain": [
       "<matplotlib.figure.Figure at 0x52a5c90>"
      ]
     },
     "metadata": {},
     "output_type": "display_data"
    }
   ],
   "source": [
    "# 绘制训练数据量与accuracy的曲线\n",
    "import matplotlib.pyplot as plt\n",
    "%matplotlib inline\n",
    "plt.plot(data_num, acc, '-o', linewidth=2.0)\n",
    "plt.xlabel(\"data number\")\n",
    "plt.ylabel(\"accuracy (m)\")\n",
    "plt.grid(True)\n",
    "plt.show()"
   ]
  },
  {
   "cell_type": "markdown",
   "metadata": {},
   "source": [
    "\n",
    "---\n",
    "\n",
    "## 其他分类器"
   ]
  },
  {
   "cell_type": "markdown",
   "metadata": {},
   "source": [
    "#### 导入数据"
   ]
  },
  {
   "cell_type": "code",
   "execution_count": 3,
   "metadata": {
    "collapsed": true
   },
   "outputs": [],
   "source": [
    "# 导入数据\n",
    "import numpy as np\n",
    "import scipy.io as scio\n",
    "offline_data = scio.loadmat('offline_data_random.mat')\n",
    "online_data = scio.loadmat('online_data.mat')\n",
    "offline_location, offline_rss = offline_data['offline_location'], offline_data['offline_rss']\n",
    "trace, rss = online_data['trace'][0:1000, :], online_data['rss'][0:1000, :]\n",
    "del offline_data\n",
    "del online_data"
   ]
  },
  {
   "cell_type": "code",
   "execution_count": 169,
   "metadata": {
    "collapsed": true
   },
   "outputs": [],
   "source": [
    "# 定位准确度定义\n",
    "def accuracy(predictions, labels):\n",
    "    return np.mean(np.sqrt(np.sum((predictions - labels + 0.0)**2, 1)))"
   ]
  },
  {
   "cell_type": "markdown",
   "metadata": {},
   "source": [
    "#### Logistic regression （逻辑斯蒂回归）"
   ]
  },
  {
   "cell_type": "code",
   "execution_count": 29,
   "metadata": {
    "collapsed": false
   },
   "outputs": [
    {
     "name": "stdout",
     "output_type": "stream",
     "text": [
      "accuracy:  3.08581348591 m\n"
     ]
    }
   ],
   "source": [
    "# 逻辑斯蒂回归是用来分类的\n",
    "labels = np.round(offline_location[:, 0]/100.0) * 100 + np.round(offline_location[:, 1]/100.0)\n",
    "from sklearn.linear_model import LogisticRegressionCV\n",
    "clf_l2_LR_cv = LogisticRegressionCV(Cs=20, penalty='l2', tol=0.001)\n",
    "predict_labels = clf_l2_LR.fit(offline_rss, labels).predict(rss)\n",
    "x = np.floor(predict_labels/100.0)\n",
    "y = predict_labels - x * 100\n",
    "predictions = np.column_stack((x, y)) * 100\n",
    "acc = accuracy(predictions, trace)\n",
    "print \"accuracy: \", acc/100, 'm'"
   ]
  },
  {
   "cell_type": "markdown",
   "metadata": {},
   "source": [
    "#### Support Vector Machine for Regression （支持向量机）"
   ]
  },
  {
   "cell_type": "code",
   "execution_count": 10,
   "metadata": {
    "collapsed": false
   },
   "outputs": [
    {
     "name": "stdout",
     "output_type": "stream",
     "text": [
      "Wall time: 9min 27s\n",
      "Wall time: 12min 42s\n",
      "Wall time: 1.06 s\n",
      "Wall time: 1.05 s\n",
      "accuracy:  2.2468400825 m\n"
     ]
    }
   ],
   "source": [
    "from sklearn import svm\n",
    "clf_x = svm.SVR(C=1000, gamma=0.01)\n",
    "clf_y = svm.SVR(C=1000, gamma=0.01)\n",
    "%time clf_x.fit(offline_rss, offline_location[:, 0])\n",
    "%time clf_y.fit(offline_rss, offline_location[:, 1])\n",
    "%time x = clf_x.predict(rss)\n",
    "%time y = clf_y.predict(rss)\n",
    "predictions = np.column_stack((x, y))\n",
    "acc = accuracy(predictions, trace)\n",
    "print \"accuracy: \", acc/100, \"m\""
   ]
  },
  {
   "cell_type": "markdown",
   "metadata": {
    "collapsed": true
   },
   "source": [
    "#### Support Vector Machine for Classification （支持向量机）"
   ]
  },
  {
   "cell_type": "code",
   "execution_count": 18,
   "metadata": {
    "collapsed": false
   },
   "outputs": [
    {
     "name": "stdout",
     "output_type": "stream",
     "text": [
      "Wall time: 1min 16s\n",
      "Wall time: 15 s\n",
      "accuracy:  2.50931890608 m\n"
     ]
    }
   ],
   "source": [
    "from sklearn import svm\n",
    "labels = np.round(offline_location[:, 0]/100.0) * 100 + np.round(offline_location[:, 1]/100.0)\n",
    "clf_svc = svm.SVC(C=1000, tol=0.01, gamma=0.001)\n",
    "%time clf_svc.fit(offline_rss, labels)\n",
    "%time predict_labels = clf_svc.predict(rss)\n",
    "x = np.floor(predict_labels/100.0)\n",
    "y = predict_labels - x * 100\n",
    "predictions = np.column_stack((x, y)) * 100\n",
    "acc = accuracy(predictions, trace)\n",
    "print \"accuracy: \", acc/100, 'm'"
   ]
  },
  {
   "cell_type": "markdown",
   "metadata": {},
   "source": [
    "#### random forest regressor （随机森林）"
   ]
  },
  {
   "cell_type": "code",
   "execution_count": 30,
   "metadata": {
    "collapsed": false
   },
   "outputs": [
    {
     "name": "stdout",
     "output_type": "stream",
     "text": [
      "Wall time: 58.6 s\n",
      "Wall time: 196 ms\n",
      "accuracy:  2.20778352008 m\n"
     ]
    }
   ],
   "source": [
    "from sklearn.ensemble import RandomForestRegressor\n",
    "estimator = RandomForestRegressor(n_estimators=150)\n",
    "%time estimator.fit(offline_rss, offline_location)\n",
    "%time predictions = estimator.predict(rss)\n",
    "acc = accuracy(predictions, trace)\n",
    "print \"accuracy: \", acc/100, 'm'"
   ]
  },
  {
   "cell_type": "markdown",
   "metadata": {},
   "source": [
    "#### random forest classifier （随机森林）"
   ]
  },
  {
   "cell_type": "code",
   "execution_count": 49,
   "metadata": {
    "collapsed": false
   },
   "outputs": [
    {
     "name": "stdout",
     "output_type": "stream",
     "text": [
      "Wall time: 39.6 s\n",
      "Wall time: 113 ms\n",
      "accuracy:  2.56860790666 m\n"
     ]
    }
   ],
   "source": [
    "from sklearn.ensemble import RandomForestClassifier\n",
    "labels = np.round(offline_location[:, 0]/100.0) * 100 + np.round(offline_location[:, 1]/100.0)\n",
    "estimator = RandomForestClassifier(n_estimators=20, max_features=None, max_depth=20) # 内存受限，tree的数量有点少\n",
    "%time estimator.fit(offline_rss, labels)\n",
    "%time predict_labels = estimator.predict(rss)\n",
    "x = np.floor(predict_labels/100.0)\n",
    "y = predict_labels - x * 100\n",
    "predictions = np.column_stack((x, y)) * 100\n",
    "acc = accuracy(predictions, trace)\n",
    "print \"accuracy: \", acc/100, 'm'"
   ]
  },
  {
   "cell_type": "markdown",
   "metadata": {},
   "source": [
    "#### Linear Regression （线性回归）"
   ]
  },
  {
   "cell_type": "code",
   "execution_count": 21,
   "metadata": {
    "collapsed": false
   },
   "outputs": [
    {
     "name": "stdout",
     "output_type": "stream",
     "text": [
      "accuracy:  3.83239841667 m\n"
     ]
    }
   ],
   "source": [
    "from sklearn.linear_model import LinearRegression\n",
    "predictions = LinearRegression().fit(offline_rss, offline_location).predict(rss)\n",
    "acc = accuracy(predictions, trace)\n",
    "print \"accuracy: \", acc/100, 'm'"
   ]
  },
  {
   "cell_type": "markdown",
   "metadata": {},
   "source": [
    "#### Ridge Regression （岭回归）"
   ]
  },
  {
   "cell_type": "code",
   "execution_count": 20,
   "metadata": {
    "collapsed": false
   },
   "outputs": [
    {
     "name": "stdout",
     "output_type": "stream",
     "text": [
      "accuracy:  3.83255676918 m\n"
     ]
    }
   ],
   "source": [
    "from sklearn.linear_model import RidgeCV\n",
    "clf = RidgeCV(alphas=np.logspace(-4, 4, 10))\n",
    "predictions = clf.fit(offline_rss, offline_location).predict(rss)\n",
    "acc = accuracy(predictions, trace)\n",
    "print \"accuracy: \", acc/100, 'm'"
   ]
  },
  {
   "cell_type": "markdown",
   "metadata": {},
   "source": [
    "#### Lasso回归"
   ]
  },
  {
   "cell_type": "code",
   "execution_count": 18,
   "metadata": {
    "collapsed": false
   },
   "outputs": [
    {
     "name": "stdout",
     "output_type": "stream",
     "text": [
      "accuracy:  3.83244688001 m\n"
     ]
    }
   ],
   "source": [
    "from sklearn.linear_model import MultiTaskLassoCV\n",
    "clf = MultiTaskLassoCV(alphas=np.logspace(-4, 4, 10))\n",
    "predictions = clf.fit(offline_rss, offline_location).predict(rss)\n",
    "acc = accuracy(predictions, trace)\n",
    "print \"accuracy: \", acc/100, 'm'"
   ]
  },
  {
   "cell_type": "markdown",
   "metadata": {},
   "source": [
    "#### Elastic Net （弹性网回归）"
   ]
  },
  {
   "cell_type": "code",
   "execution_count": 19,
   "metadata": {
    "collapsed": false
   },
   "outputs": [
    {
     "name": "stdout",
     "output_type": "stream",
     "text": [
      "accuracy:  3.832486036 m\n"
     ]
    }
   ],
   "source": [
    "from sklearn.linear_model import MultiTaskElasticNetCV\n",
    "clf = MultiTaskElasticNetCV(alphas=np.logspace(-4, 4, 10))\n",
    "predictions = clf.fit(offline_rss, offline_location).predict(rss)\n",
    "acc = accuracy(predictions, trace)\n",
    "print \"accuracy: \", acc/100, 'm'"
   ]
  },
  {
   "cell_type": "markdown",
   "metadata": {},
   "source": [
    "#### Bayesian Ridge Regression （贝叶斯岭回归）"
   ]
  },
  {
   "cell_type": "code",
   "execution_count": 17,
   "metadata": {
    "collapsed": false
   },
   "outputs": [
    {
     "name": "stdout",
     "output_type": "stream",
     "text": [
      "accuracy:  3.83243319129 m\n"
     ]
    }
   ],
   "source": [
    "from sklearn.linear_model import BayesianRidge\n",
    "from sklearn.multioutput import MultiOutputRegressor\n",
    "clf = MultiOutputRegressor(BayesianRidge())\n",
    "predictions = clf.fit(offline_rss, offline_location).predict(rss)\n",
    "acc = accuracy(predictions, trace)\n",
    "print \"accuracy: \", acc/100, \"m\""
   ]
  },
  {
   "cell_type": "markdown",
   "metadata": {
    "collapsed": true
   },
   "source": [
    "#### Gradient Boosting for regression （梯度提升）"
   ]
  },
  {
   "cell_type": "code",
   "execution_count": 26,
   "metadata": {
    "collapsed": false
   },
   "outputs": [
    {
     "name": "stdout",
     "output_type": "stream",
     "text": [
      "Wall time: 43.4 s\n",
      "Wall time: 17 ms\n",
      "accuracy:  2.22100945095 m\n"
     ]
    }
   ],
   "source": [
    "from sklearn import ensemble\n",
    "from sklearn.multioutput import MultiOutputRegressor\n",
    "clf = MultiOutputRegressor(ensemble.GradientBoostingRegressor(n_estimators=100, max_depth=10))\n",
    "%time clf.fit(offline_rss, offline_location)\n",
    "%time predictions = clf.predict(rss)\n",
    "acc = accuracy(predictions, trace)\n",
    "print \"accuracy: \", acc/100, \"m\""
   ]
  },
  {
   "cell_type": "markdown",
   "metadata": {},
   "source": [
    "#### Multi-layer Perceptron regressor （神经网络多层感知器）"
   ]
  },
  {
   "cell_type": "code",
   "execution_count": 22,
   "metadata": {
    "collapsed": false
   },
   "outputs": [
    {
     "name": "stdout",
     "output_type": "stream",
     "text": [
      "Wall time: 1min 1s\n",
      "Wall time: 6 ms\n",
      "accuracy:  2.4517504109 m\n"
     ]
    }
   ],
   "source": [
    "from sklearn.neural_network import MLPRegressor\n",
    "clf = MLPRegressor(hidden_layer_sizes=(100, 100))\n",
    "%time clf.fit(offline_rss, offline_location)\n",
    "%time predictions = clf.predict(rss)\n",
    "acc = accuracy(predictions, trace)\n",
    "print \"accuracy: \", acc/100, \"m\""
   ]
  },
  {
   "cell_type": "markdown",
   "metadata": {},
   "source": [
    "---\n",
    "\n",
    "## 目标跟踪"
   ]
  },
  {
   "cell_type": "markdown",
   "metadata": {},
   "source": [
    "#### KNN + Kalman Filter"
   ]
  },
  {
   "cell_type": "code",
   "execution_count": 170,
   "metadata": {
    "collapsed": false
   },
   "outputs": [
    {
     "name": "stdout",
     "output_type": "stream",
     "text": [
      "accuracy:  2.24421479398 m\n"
     ]
    }
   ],
   "source": [
    "# knn回归\n",
    "from sklearn import neighbors\n",
    "knn_reg = neighbors.KNeighborsRegressor(40, weights='uniform', metric='euclidean')\n",
    "knn_reg.fit(offline_rss, offline_location)\n",
    "knn_predictions = knn_reg.predict(rss)\n",
    "acc = accuracy(knn_predictions, trace)\n",
    "print \"accuracy: \", acc/100, \"m\""
   ]
  },
  {
   "cell_type": "code",
   "execution_count": 171,
   "metadata": {
    "collapsed": false
   },
   "outputs": [],
   "source": [
    "# 对knn定位结果进行卡尔曼滤波\n",
    "\n",
    "from filterpy.kalman import KalmanFilter\n",
    "from scipy.linalg import block_diag\n",
    "from filterpy.common import Q_discrete_white_noise\n",
    "def kalman_tracker():\n",
    "    tracker = KalmanFilter(dim_x=4, dim_z=2)\n",
    "    dt = 1.\n",
    "    # 状态转移矩阵\n",
    "    tracker.F = np.array([[1, dt, 0,  0], \n",
    "                          [0,  1, 0,  0],\n",
    "                          [0,  0, 1, dt],\n",
    "                          [0,  0, 0,  1]])\n",
    "    # 用filterpy计算Q矩阵\n",
    "    q = Q_discrete_white_noise(dim=2, dt=dt, var=0.001)\n",
    "    # tracker.Q = block_diag(q, q)\n",
    "    tracker.Q = np.eye(4) * 0.01\n",
    "    # tracker.B = 0\n",
    "    # 观测矩阵\n",
    "    tracker.H = np.array([[1., 0, 0, 0],\n",
    "                          [0, 0, 1., 0]])\n",
    "    # R矩阵\n",
    "    tracker.R = np.array([[4., 0],\n",
    "                          [0, 4.]])\n",
    "    # 初始状态和初始P\n",
    "    tracker.x = np.array([[7.4, 0, 3.3, 0]]).T \n",
    "    tracker.P = np.zeros([4, 4])\n",
    "    return tracker"
   ]
  },
  {
   "cell_type": "code",
   "execution_count": 174,
   "metadata": {
    "collapsed": false
   },
   "outputs": [
    {
     "name": "stdout",
     "output_type": "stream",
     "text": [
      "accuracy:  1.76116239607 m\n"
     ]
    }
   ],
   "source": [
    "tracker = kalman_tracker()\n",
    "zs = np.array([np.array([i]).T / 100. for i in knn_predictions]) # 除以100，单位为m\n",
    "mu, cov, _, _ = tracker.batch_filter(zs) # 这个函数对一串观测值滤波\n",
    "knn_kf_predictions = mu[:, [0, 2], :].reshape(1000, 2)\n",
    "acc = accuracy(knn_kf_predictions, trace / 100.)\n",
    "print \"accuracy: \", acc, \"m\""
   ]
  },
  {
   "cell_type": "markdown",
   "metadata": {},
   "source": [
    "#### KNN + Particle Filter"
   ]
  },
  {
   "cell_type": "code",
   "execution_count": 176,
   "metadata": {
    "collapsed": false
   },
   "outputs": [
    {
     "name": "stdout",
     "output_type": "stream",
     "text": [
      "accuracy:  2.24421479398 m\n"
     ]
    }
   ],
   "source": [
    "# knn回归\n",
    "from sklearn import neighbors\n",
    "knn_reg = neighbors.KNeighborsRegressor(40, weights='uniform', metric='euclidean')\n",
    "knn_reg.fit(offline_rss, offline_location)\n",
    "knn_predictions = knn_reg.predict(rss)\n",
    "acc = accuracy(knn_predictions, trace)\n",
    "print \"accuracy: \", acc/100, \"m\""
   ]
  },
  {
   "cell_type": "code",
   "execution_count": 235,
   "metadata": {
    "collapsed": false
   },
   "outputs": [],
   "source": [
    "# 设计粒子滤波中各个步骤的具体实现\n",
    "\n",
    "from numpy.random import uniform, randn, random, seed\n",
    "from filterpy.monte_carlo import multinomial_resample\n",
    "import scipy.stats\n",
    "seed(7)\n",
    "\n",
    "def create_particles(x_range, y_range, v_mean, v_std, N):\n",
    "    \"\"\"这里的粒子状态设置为（坐标x，坐标y，运动方向，运动速度）\"\"\"\n",
    "    particles = np.empty((N, 4))\n",
    "    particles[:, 0] = uniform(x_range[0], x_range[1], size=N)\n",
    "    particles[:, 1] = uniform(y_range[0], y_range[1], size=N)\n",
    "    particles[:, 2] = uniform(0, 2 * np.pi, size=N)\n",
    "    particles[:, 3] = v_mean + (randn(N) * v_std)\n",
    "    return particles\n",
    "\n",
    "def predict_particles(particles, std_heading, std_v, x_range, y_range):\n",
    "    \"\"\"这里的预测规则设置为：粒子根据各自的速度和方向（加噪声）进行运动，如果超出边界则随机改变方向再次尝试，\"\"\"\n",
    "    idx = np.array([True] * len(particles))\n",
    "    particles_last = np.copy(particles)\n",
    "    for i in range(100): # 最多尝试100次\n",
    "        if i == 0:\n",
    "            particles[idx, 2] = particles_last[idx, 2] + (randn(np.sum(idx)) * std_heading)\n",
    "        else:\n",
    "            particles[idx, 2] = uniform(0, 2 * np.pi, size=np.sum(idx)) # 随机改变方向\n",
    "        particles[idx, 3] = particles_last[idx, 3] + (randn(np.sum(idx)) * std_v)\n",
    "        particles[idx, 0] = particles_last[idx, 0] + np.cos(particles[idx, 2] ) * particles[idx, 3]\n",
    "        particles[idx, 1] = particles_last[idx, 1] + np.sin(particles[idx, 2] ) * particles[idx, 3]\n",
    "        # 判断超出边界的粒子\n",
    "        idx = ((particles[:, 0] < x_range[0])\n",
    "                | (particles[:, 0] > x_range[1])\n",
    "                | (particles[:, 1] < y_range[0]) \n",
    "                | (particles[:, 1] > y_range[1]))\n",
    "        if np.sum(idx) == 0:\n",
    "            break\n",
    "            \n",
    "def update_particles(particles, weights, z, d_std):\n",
    "    \"\"\"粒子更新，根据观测结果中得到的位置pdf信息来更新权重，这里简单地假设是真实位置到观测位置的距离为高斯分布\"\"\"\n",
    "    # weights.fill(1.)\n",
    "    distances = np.linalg.norm(particles[:, 0:2] - z, axis=1)\n",
    "    weights *= scipy.stats.norm(0, d_std).pdf(distances)\n",
    "    weights += 1.e-300\n",
    "    weights /= sum(weights)\n",
    "\n",
    "def estimate(particles, weights):\n",
    "    \"\"\"估计位置\"\"\"\n",
    "    return np.average(particles, weights=weights, axis=0)\n",
    "\n",
    "def neff(weights):\n",
    "    \"\"\"用来判断当前要不要进行重采样\"\"\"\n",
    "    return 1. / np.sum(np.square(weights))\n",
    "\n",
    "def resample_from_index(particles, weights, indexes):\n",
    "    \"\"\"根据指定的样本进行重采样\"\"\"\n",
    "    particles[:] = particles[indexes]\n",
    "    weights[:] = weights[indexes]\n",
    "    weights /= np.sum(weights)\n",
    "    \n",
    "def run_pf(particles, weights, z, x_range, y_range):\n",
    "    \"\"\"迭代一次粒子滤波，返回状态估计\"\"\"\n",
    "    x_range, y_range = [0, 20], [0, 15]\n",
    "    predict_particles(particles, 0.5, 0.01, x_range, y_range) # 1. 预测\n",
    "    update_particles(particles, weights, z, 4) # 2. 更新\n",
    "    if neff(weights) < len(particles) / 2: # 3. 重采样\n",
    "        indexes = multinomial_resample(weights)\n",
    "        resample_from_index(particles, weights, indexes)\n",
    "    return estimate(particles, weights) # 4. 状态估计"
   ]
  },
  {
   "cell_type": "code",
   "execution_count": 236,
   "metadata": {
    "collapsed": false
   },
   "outputs": [
    {
     "name": "stdout",
     "output_type": "stream",
     "text": [
      "final state:  [  8.16137026  12.49569879   4.06952385   0.54954716]\n",
      "accuracy:  1.80881825483 m\n"
     ]
    }
   ],
   "source": [
    "# 对knn定位结果进行粒子滤波\n",
    "\n",
    "knn_pf_predictions = np.empty(knn_predictions.shape)\n",
    "x_range, y_range = [0, 20], [0, 15]\n",
    "n_particles = 50000\n",
    "particles = create_particles(x_range, y_range, 0.6, 0.01, n_particles) # 初始化粒子\n",
    "weights = np.ones(n_particles) / n_particles # 初始化权重\n",
    "\n",
    "for i, pos in enumerate(knn_predictions):\n",
    "    pos = pos.copy() / 100.\n",
    "    state = run_pf(particles, weights, pos, x_range, y_range)\n",
    "    knn_pf_predictions[i, :] = state[0:2]\n",
    "\n",
    "acc = accuracy(knn_pf_predictions, trace / 100.)\n",
    "print \"final state: \", state\n",
    "print \"accuracy: \", acc, \"m\""
   ]
  },
  {
   "cell_type": "code",
   "execution_count": 268,
   "metadata": {
    "collapsed": false
   },
   "outputs": [
    {
     "data": {
      "image/png": "[encoded data removed]",
      "text/plain": [
       "<matplotlib.figure.Figure at 0xc82fbd0>"
      ]
     },
     "metadata": {},
     "output_type": "display_data"
    }
   ],
   "source": [
    "import matplotlib.pyplot as plt\n",
    "%matplotlib inline\n",
    "x_i = range(500, 550)\n",
    "tr, = plt.plot(trace[x_i, 0] / 100., trace[x_i, 1] / 100., 'k-', linewidth=3)\n",
    "pf, = plt.plot(knn_pf_predictions[x_i, 0], knn_pf_predictions[x_i, 1], 'r-')\n",
    "kf, = plt.plot(knn_kf_predictions[x_i, 0], knn_kf_predictions[x_i, 1], 'b-')\n",
    "knn_ = plt.scatter(knn_predictions[x_i, 0] / 100., knn_predictions[x_i, 1] / 100.)\n",
    "plt.xlabel('x (m)')\n",
    "plt.ylabel('y (m)')\n",
    "plt.legend([tr, pf, kf, knn_], [\"real trace\", \"pp\", \"kf\", \"knn\"])\n",
    "plt.show()"
   ]
  }
 ],
 "metadata": {
  "kernelspec": {
   "display_name": "Python 2",
   "language": "python",
   "name": "python2"
  },
  "language_info": {
   "codemirror_mode": {
    "name": "ipython",
    "version": 2
   },
   "file_extension": ".py",
   "mimetype": "text/x-python",
   "name": "python",
   "nbconvert_exporter": "python",
   "pygments_lexer": "ipython2",
   "version": "2.7.9"
  }
 },
 "nbformat": 4,
 "nbformat_minor": 0
}
